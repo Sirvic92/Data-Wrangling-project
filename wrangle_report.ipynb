{
 "cells": [
  {
   "cell_type": "markdown",
   "metadata": {},
   "source": [
    "# REPORT ON  DATA WRANGLING STEPS: GATHER, ASSESS, AND CLEAN #"
   ]
  },
  {
   "cell_type": "markdown",
   "metadata": {},
   "source": [
    "## Wrangle Report: ##\n",
    "\n",
    "The dataset wrangle in the project is the tweet archive of Twitter user @dog_rates, also known as WeRateDogs. `WeRateDogs` is a twitter account that rates people’s dogs with humorous comment about the dog.\n",
    "\n",
    "\n",
    "**The WeRateDogs Twitter project goals included:**\n",
    "\n",
    "- Wrangling the twitter data through the following processes:\n",
    "  - Gathering Data\n",
    "  -\tAssessing Data\n",
    "  -\tCleaning Data\n",
    "- Storing, analyzing and visualizing your wrangled data\n",
    "\n",
    "- Reporting on the data wrangling efforts and data analyse and visualization\n"
   ]
  },
  {
   "cell_type": "markdown",
   "metadata": {},
   "source": [
    "## Gathering Data: ##\n",
    "\n",
    "My wrangling efforts for the `WeRateDogs` Twitter project included gathering data from the following sources:\n",
    "\n",
    "\n",
    "- The WeRateDogs Twitter archive. The twitter_archive_enhanced.csv file was provided to Udacity students. This archive contains basic tweet data (tweet ID, timestamp, text, etc.) for all 5000+ of their tweets as they stood on August 1, 2017.\n",
    "\n",
    "- The tweet image predictions, i.e., what breed of dog (or another object, animal, etc.) is present in each tweet according to a neural network. This file was provided to Udacity students.\n",
    "\n",
    "- Twitter API and Python's Tweepy library to gather each tweet's retweet count and favorite (\"like\") count at minimum, and any additional data I find interesting\n"
   ]
  },
  {
   "cell_type": "markdown",
   "metadata": {},
   "source": [
    "## Assessing Data: ##\n",
    "\n",
    "Once the data was gathered, I began to assess the data on both quality and tidiness issues.\n",
    "\n",
    "**Quality Issue:**\n",
    "\n",
    "`‘twitter-archive-enhanced-2.csv’`:\n",
    "\n",
    " - **Completeness:**\n",
    "   - missing data in the following columns: in_reply_to_status_id, in_reply_to_user_id, retweeted_status_id, retweeted_status_user_id, retweeted_status_timestamp, expanded_urls.\n",
    "   \n",
    "   - tweet_id is an int (applies to all tables)\n",
    "   \n",
    "- **Validity:**\n",
    "\n",
    "  - dog names: some dogs have 'None' as a name, or 'a', or 'an.'\n",
    " \n",
    "   - This data-set includes retweets, which means there is duplicated data (as a result, these columns will be empty: retweeted_status_id, retweeted_status_user_id and retweeted_status_timestamp).\n",
    "\n",
    "- **Accuracy:**\n",
    "\n",
    "  - retweeted_status_timestamp is also an object (the other retweeted statuses are floats)\n",
    "  \n",
    "  - Time-stamp is an object\n",
    "  \n",
    "  \n",
    "- **Consistency:**\n",
    "\n",
    "  - The Source column still has the HTML tags\n",
    "  - rating_denominator should be a standard 10, but there are a multitude of other values\n"
   ]
  },
  {
   "cell_type": "markdown",
   "metadata": {},
   "source": [
    "`‘image_predictions.tsv’`:\n",
    "\n",
    "- **Validity:**\n",
    "\n",
    "  - p1, p2 and p3 columns have invalid data...why would the algorithm labelled a dog photo as a starfish, boathouse, or mailbox.\n",
    "  \n",
    "- **Consistency:**\n",
    "\n",
    "  - p1, p2 and p3 columns aren't consistent when it comes to capitalization: sometimes the dog breed listed is all lowercase, sometimes it is written in Sentence Case.\n",
    "  \n",
    "   - In p1, p2 and p3 columns there is an underscore for multi-word dog breeds.\n",
    "   \n",
    "`‘tweet_json’`:\n",
    "\n",
    "- **Completeness:**\n",
    "\n",
    "  - Missing Some Data\n"
   ]
  },
  {
   "cell_type": "markdown",
   "metadata": {},
   "source": [
    "## Tidiness Issue: ##\n",
    "`‘twitter-archive-enhanced-2.csv’`:\n",
    "\n",
    " - The last four columns all relate to the same variable (dogoo, floofer, pupper, puppo).\n",
    "\n",
    "`‘image_predictions.tsv’:`\n",
    "\n",
    "- This data set is part of the same observational unit as the data in the ‘twitter-archive-enhanced-2.csv’ - one table with all basic information about the dog ratings.\n",
    "\n",
    " \n",
    "`‘tweet_json’:`\n",
    " \n",
    " - This data set is also part of the same observational unit - one table with all basic information about the dog ratings.\n"
   ]
  },
  {
   "cell_type": "markdown",
   "metadata": {},
   "source": [
    "## Cleaning Data: ##\n",
    "\n",
    "After the assessment, I cleaned the data through the following means:\n",
    " \n",
    "Define, Code and Test:\n",
    "\n",
    "- Merge the clean versions of archive, images, and twitter_counts_df data frames Correct the dog types.\n",
    "\n",
    "- Create one column for the various dog types: doggo, floofer, pupper, puppo \n",
    "\n",
    "- Remove columns no longer needed: in_reply_to_status_id, in_reply_to_user_id, retweeted_status_id, retweeted_status_user_id, and retweeted_status_timestamp.\n",
    "\n",
    "- Delete retweets.\n",
    "\n",
    "- Remove columns no longer needed.\n",
    "\n",
    "- Change tweet_id from an integer to a string.\n",
    "\n",
    "- Change the timestamp to correct datetime format.\n",
    "\n",
    "- Correct naming issues and Standardize dog ratings.\n",
    "\n",
    "- Creating a new dog_breed column using the image pre\n"
   ]
  }
 ],
 "metadata": {
  "kernelspec": {
   "display_name": "Python 3",
   "language": "python",
   "name": "python3"
  },
  "language_info": {
   "codemirror_mode": {
    "name": "ipython",
    "version": 3
   },
   "file_extension": ".py",
   "mimetype": "text/x-python",
   "name": "python",
   "nbconvert_exporter": "python",
   "pygments_lexer": "ipython3",
   "version": "3.6.3"
  }
 },
 "nbformat": 4,
 "nbformat_minor": 2
}
